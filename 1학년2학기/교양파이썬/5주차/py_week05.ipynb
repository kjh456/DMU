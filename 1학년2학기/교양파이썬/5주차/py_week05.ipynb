{
 "cells": [
  {
   "cell_type": "code",
   "execution_count": 1,
   "metadata": {},
   "outputs": [
    {
     "data": {
      "text/plain": [
       "'A'"
      ]
     },
     "execution_count": 1,
     "metadata": {},
     "output_type": "execute_result"
    }
   ],
   "source": [
    "letters = ['A', 'B', 'C', 'D', 'E', 'F']\n",
    "letters[0]"
   ]
  },
  {
   "cell_type": "code",
   "execution_count": 7,
   "metadata": {},
   "outputs": [
    {
     "data": {
      "text/plain": [
       "7"
      ]
     },
     "execution_count": 7,
     "metadata": {},
     "output_type": "execute_result"
    }
   ],
   "source": [
    "bts = ['V', 'RM', 'Jungkook', 'J-Hop', 'Suga', 'Jin', 'Jiming']\n",
    "len(bts)"
   ]
  },
  {
   "cell_type": "code",
   "execution_count": 11,
   "metadata": {},
   "outputs": [
    {
     "data": {
      "text/plain": [
       "['C', 'D', 'E']"
      ]
     },
     "execution_count": 11,
     "metadata": {},
     "output_type": "execute_result"
    }
   ],
   "source": [
    "l = ['A', 'B', 'C', 'D', 'E', 'F']\n",
    "a=l[2:5]\n",
    "a"
   ]
  },
  {
   "cell_type": "code",
   "execution_count": 16,
   "metadata": {},
   "outputs": [
    {
     "data": {
      "text/plain": [
       "['A', 'B', 'C']"
      ]
     },
     "execution_count": 16,
     "metadata": {},
     "output_type": "execute_result"
    }
   ],
   "source": [
    "letters[:3]"
   ]
  },
  {
   "cell_type": "code",
   "execution_count": 17,
   "metadata": {},
   "outputs": [
    {
     "data": {
      "text/plain": [
       "['D', 'E', 'F']"
      ]
     },
     "execution_count": 17,
     "metadata": {},
     "output_type": "execute_result"
    }
   ],
   "source": [
    "letters[3:]"
   ]
  },
  {
   "cell_type": "code",
   "execution_count": 18,
   "metadata": {},
   "outputs": [
    {
     "data": {
      "text/plain": [
       "['A', 'C', 'E']"
      ]
     },
     "execution_count": 18,
     "metadata": {},
     "output_type": "execute_result"
    }
   ],
   "source": [
    "letters[::2]"
   ]
  },
  {
   "cell_type": "code",
   "execution_count": 19,
   "metadata": {},
   "outputs": [
    {
     "data": {
      "text/plain": [
       "['F', 'E', 'D', 'C', 'B', 'A']"
      ]
     },
     "execution_count": 19,
     "metadata": {},
     "output_type": "execute_result"
    }
   ],
   "source": [
    "letters[::-1]"
   ]
  },
  {
   "cell_type": "code",
   "execution_count": 33,
   "metadata": {},
   "outputs": [
    {
     "data": {
      "text/plain": [
       "['Kim', 178.9, 'Park', 175.0, 'Lee', 176.1]"
      ]
     },
     "execution_count": 33,
     "metadata": {},
     "output_type": "execute_result"
    }
   ],
   "source": [
    "slist = ['Kim', 178.9, 'Park', 173.5, 'Lee', 176.1]\n",
    "slist[3] = 175.0\n",
    "slist"
   ]
  },
  {
   "cell_type": "code",
   "execution_count": 34,
   "metadata": {},
   "outputs": [
    {
     "data": {
      "text/plain": [
       "['Kim', 178.9, 'Paik', 180.0, 'Lee', 176.1]"
      ]
     },
     "execution_count": 34,
     "metadata": {},
     "output_type": "execute_result"
    }
   ],
   "source": [
    "slist[2:4] = ['Paik', 180.0]\n",
    "slist"
   ]
  },
  {
   "cell_type": "code",
   "execution_count": 35,
   "metadata": {},
   "outputs": [
    {
     "data": {
      "text/plain": [
       "['Kim', 178.9, 'Paik', 180.0, 'Hong', 168.1, 'Lee', 176.1]"
      ]
     },
     "execution_count": 35,
     "metadata": {},
     "output_type": "execute_result"
    }
   ],
   "source": [
    "slist.insert(4, 'Hong')\n",
    "slist.insert(5, 168.1)\n",
    "slist"
   ]
  },
  {
   "cell_type": "code",
   "execution_count": 49,
   "metadata": {},
   "outputs": [
    {
     "name": "stdout",
     "output_type": "stream",
     "text": [
      "서울 인구:  9765\n",
      "인천 인구:  2954\n",
      "도시 리스트:  ['Seoul', 'Busan', 'Incheon']\n",
      "인구의 합:  16160\n"
     ]
    }
   ],
   "source": [
    "# LAB 7-3 도시의 인구\n",
    "population = ['Seoul', 9765, 'Busan', 3441, 'Incheon', 2954]\n",
    "p = print\n",
    "p('서울 인구: ', population[1])\n",
    "p('인천 인구: ', population[-1])\n",
    "p('도시 리스트: ', population[::2])\n",
    "p('인구의 합: ', sum(population[1::2]))\n"
   ]
  },
  {
   "cell_type": "code",
   "execution_count": 50,
   "metadata": {},
   "outputs": [
    {
     "data": {
      "text/plain": [
       "['V', 'J-Hop', 'Suga']"
      ]
     },
     "execution_count": 50,
     "metadata": {},
     "output_type": "execute_result"
    }
   ],
   "source": [
    "bts = ['V', 'J-Hop', 'Suga', 'Jungkook']\n",
    "bts.remove('Jungkook')\n",
    "bts"
   ]
  },
  {
   "cell_type": "code",
   "execution_count": 51,
   "metadata": {},
   "outputs": [
    {
     "data": {
      "text/plain": [
       "['A', 'C', 'D', 'E', 'F']"
      ]
     },
     "execution_count": 51,
     "metadata": {},
     "output_type": "execute_result"
    }
   ],
   "source": [
    "l = ['A', 'B', 'C', 'D', 'E', 'F']\n",
    "if 'B' in l:\n",
    "    l.remove('B')\n",
    "l"
   ]
  },
  {
   "cell_type": "code",
   "execution_count": 54,
   "metadata": {},
   "outputs": [
    {
     "name": "stdout",
     "output_type": "stream",
     "text": [
      "Jungkook\n",
      "['V', 'J-Hop', 'Suga']\n"
     ]
    }
   ],
   "source": [
    "bts = ['V', 'J-Hop', 'Suga', 'Jungkook']\n",
    "last_member = bts.pop()\n",
    "p(last_member)\n",
    "p(bts)"
   ]
  },
  {
   "cell_type": "code",
   "execution_count": 55,
   "metadata": {},
   "outputs": [
    {
     "data": {
      "text/plain": [
       "['J-Hop', 'Suga', 'Jungkook']"
      ]
     },
     "execution_count": 55,
     "metadata": {},
     "output_type": "execute_result"
    }
   ],
   "source": [
    "bts = ['V', 'J-Hop', 'Suga', 'Jungkook']\n",
    "del bts[0]\n",
    "bts"
   ]
  },
  {
   "cell_type": "code",
   "execution_count": 56,
   "metadata": {},
   "outputs": [
    {
     "data": {
      "text/plain": [
       "2"
      ]
     },
     "execution_count": 56,
     "metadata": {},
     "output_type": "execute_result"
    }
   ],
   "source": [
    "bts = ['V', 'J-Hop', 'Suga', 'Jungkook']\n",
    "bts.index('Suga')"
   ]
  },
  {
   "cell_type": "code",
   "execution_count": 57,
   "metadata": {},
   "outputs": [
    {
     "name": "stdout",
     "output_type": "stream",
     "text": [
      "V\n",
      "J-Hop\n",
      "Suga\n",
      "Jungkook\n"
     ]
    }
   ],
   "source": [
    "bts = ['V', 'J-Hop', 'Suga', 'Jungkook']\n",
    "for member in bts:\n",
    "    p(member)"
   ]
  },
  {
   "cell_type": "code",
   "execution_count": 60,
   "metadata": {},
   "outputs": [
    {
     "name": "stdout",
     "output_type": "stream",
     "text": [
      "[1, 2, 3, 4, 5, 6, 7, 8, 9]\n",
      "[9, 8, 7, 6, 5, 4, 3, 2, 1]\n"
     ]
    }
   ],
   "source": [
    "numbers = [9, 6, 7, 1, 8, 4, 5, 3, 2]\n",
    "numbers.sort()\n",
    "p(numbers)\n",
    "numbers.sort(reverse=True)\n",
    "p(numbers)"
   ]
  },
  {
   "cell_type": "code",
   "execution_count": 61,
   "metadata": {},
   "outputs": [
    {
     "name": "stdout",
     "output_type": "stream",
     "text": [
      "['J-Hop', 'Jungkook', 'Suga', 'V']\n"
     ]
    }
   ],
   "source": [
    "bts = ['V', 'J-Hop', 'Suga', 'Jungkook']\n",
    "bts.sort()\n",
    "p(bts)"
   ]
  },
  {
   "cell_type": "code",
   "execution_count": 62,
   "metadata": {},
   "outputs": [
    {
     "data": {
      "text/plain": [
       "['A', 'C', 'D', 'a']"
      ]
     },
     "execution_count": 62,
     "metadata": {},
     "output_type": "execute_result"
    }
   ],
   "source": [
    "l=['D', 'C', 'a', 'A']\n",
    "l.sort()\n",
    "l"
   ]
  },
  {
   "cell_type": "code",
   "execution_count": 65,
   "metadata": {},
   "outputs": [
    {
     "name": "stdout",
     "output_type": "stream",
     "text": [
      "[1, 2, 3, 4, 5, 6, 7, 8, 9]\n",
      "[9, 6, 7, 1, 8, 4, 5, 3, 2]\n"
     ]
    }
   ],
   "source": [
    "numbers = [9, 6, 7, 1, 8, 4, 5, 3, 2]\n",
    "new_list = sorted(numbers)\n",
    "p(new_list)\n",
    "p(numbers)"
   ]
  },
  {
   "cell_type": "code",
   "execution_count": 69,
   "metadata": {},
   "outputs": [
    {
     "name": "stdout",
     "output_type": "stream",
     "text": [
      "s[0] = p\n",
      "s[1] = y\n",
      "s[-1] = n\n",
      "s[0:2] = py\n",
      "s[-2:] = on\n",
      "s[-1:-3:-1] = no\n"
     ]
    }
   ],
   "source": [
    "s = 'python'\n",
    "p('s[0] =', s[0])\n",
    "p('s[1] =', s[1])\n",
    "p('s[-1] =', s[-1])\n",
    "p('s[0:2] =', s[0:2])\n",
    "p('s[-2:] =', s[-2:])\n",
    "p('s[-1:-3:-1] =', s[-1:-3:-1])"
   ]
  },
  {
   "cell_type": "code",
   "execution_count": 71,
   "metadata": {},
   "outputs": [
    {
     "name": "stdout",
     "output_type": "stream",
     "text": [
      "['23', '35', '67', '88', '1']\n"
     ]
    }
   ],
   "source": [
    "s = '23,35,67,88,1'\n",
    "num_list = s.split(',')\n",
    "p(num_list)"
   ]
  },
  {
   "cell_type": "code",
   "execution_count": 86,
   "metadata": {},
   "outputs": [
    {
     "name": "stdout",
     "output_type": "stream",
     "text": [
      "##################################\n",
      "#           오늘의 명언          #\n",
      "##################################\n",
      "\n",
      "\n",
      "고생없이 얻을 수 있는 진실로 귀중한 것은 하나도 없다.\n"
     ]
    }
   ],
   "source": [
    "# LAB 7-4\n",
    "import random\n",
    "p = print\n",
    "\n",
    "quotes = []\n",
    "quotes.append('꿈을 지녀라. 그러면 어려운 현실을 이길 수 있다.')\n",
    "quotes.append('언제나 현재에 집중할 수 있다면 행복할 것이다.')\n",
    "quotes.append('고생없이 얻을 수 있는 진실로 귀중한 것은 하나도 없다.')\n",
    "quotes.append('사람은 사랑할 때 누구나 시인이 된다.')\n",
    "quotes.append('시작이 반이다.')\n",
    "\n",
    "p(\"##################################\\n#           오늘의 명언          #\\n##################################\\n\\n\")\n",
    "p(random.choice(quotes))"
   ]
  }
 ],
 "metadata": {
  "kernelspec": {
   "display_name": "Python 3",
   "language": "python",
   "name": "python3"
  },
  "language_info": {
   "codemirror_mode": {
    "name": "ipython",
    "version": 3
   },
   "file_extension": ".py",
   "mimetype": "text/x-python",
   "name": "python",
   "nbconvert_exporter": "python",
   "pygments_lexer": "ipython3",
   "version": "3.12.2"
  }
 },
 "nbformat": 4,
 "nbformat_minor": 2
}
