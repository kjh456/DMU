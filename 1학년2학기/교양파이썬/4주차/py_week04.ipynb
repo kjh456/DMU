{
 "cells": [
  {
   "cell_type": "code",
   "execution_count": 1,
   "metadata": {},
   "outputs": [
    {
     "name": "stdout",
     "output_type": "stream",
     "text": [
      "#######################\n",
      "#                     #\n",
      "# 부동산 매물 광고    #\n",
      "#                     #\n",
      "#######################\n",
      "\n",
      "서울시 종로구에 위치한 아주 좋은 아파트가 매물로 나왔습니다. 이 아파트는 3개의 방을 가지고 있으며 가격은 100000000입니다.\n"
     ]
    }
   ],
   "source": [
    "street = \"서울시 종로구\"\n",
    "st = \"아파트\"\n",
    "number_of_rooms = 3\n",
    "price = 100000000\n",
    "\n",
    "print(\"#######################\")\n",
    "print(\"#                     #\")\n",
    "print(\"# 부동산 매물 광고    #\")\n",
    "print(\"#                     #\")\n",
    "print(\"#######################\")\n",
    "print(f\"\\n{street}에 위치한 아주 좋은 {st}가 매물로 나왔습니다. 이 {st}는 {number_of_rooms}개의 방을 가지고 있으며 가격은 {price}입니다.\")"
   ]
  },
  {
   "cell_type": "code",
   "execution_count": 2,
   "metadata": {},
   "outputs": [
    {
     "name": "stdout",
     "output_type": "stream",
     "text": [
      "이 과일은 당신이 좋아하는 과일입니다.\n"
     ]
    }
   ],
   "source": [
    "fruits = []\n",
    "fruits.append(input(\"좋아하는 과일 이름을 입력하시오: \"))\n",
    "fruits.append(input(\"좋아하는 과일 이름을 입력하시오: \"))\n",
    "fruits.append(input(\"좋아하는 과일 이름을 입력하시오: \"))\n",
    "\n",
    "fruits_input = input(\"과일의 이름을 입력하세요: \")\n",
    "\n",
    "if fruits_input in fruits:\n",
    "    print(\"이 과일은 당신이 좋아하는 과일입니다.\")\n",
    "else:\n",
    "    print(\"이 과일은 당신이 좋아하는 과일이 아닙니다.\")"
   ]
  }
 ],
 "metadata": {
  "kernelspec": {
   "display_name": "Python 3",
   "language": "python",
   "name": "python3"
  },
  "language_info": {
   "codemirror_mode": {
    "name": "ipython",
    "version": 3
   },
   "file_extension": ".py",
   "mimetype": "text/x-python",
   "name": "python",
   "nbconvert_exporter": "python",
   "pygments_lexer": "ipython3",
   "version": "3.12.2"
  }
 },
 "nbformat": 4,
 "nbformat_minor": 2
}
